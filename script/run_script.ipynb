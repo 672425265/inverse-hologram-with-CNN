{
 "cells": [
  {
   "cell_type": "code",
   "execution_count": null,
   "metadata": {},
   "outputs": [],
   "source": [
    "import os\n",
    "script_name = 'run_script.ipynb'\n",
    "dir_path = os.path.dirname(os.path.realpath(script_name))\n",
    "parent_path = os.path.dirname(dir_path)\n",
    "savemodel_path = os.path.join(parent_path,'model')\n",
    "loaddata_path = os.path.join(parent_path,'data')\n",
    "headfile_path = os.path.join(parent_path,'headfile')"
   ]
  },
  {
   "cell_type": "code",
   "execution_count": null,
   "metadata": {},
   "outputs": [],
   "source": [
    "import sys\n",
    "sys.path.append(savemodel_path)\n",
    "sys.path.append(loaddata_path)\n",
    "sys.path.append(headfile_path)"
   ]
  },
  {
   "cell_type": "code",
   "execution_count": null,
   "metadata": {},
   "outputs": [],
   "source": [
    "from load_data import Hologram_Dataset,ToTensor\n",
    "from build_network import TEST_NET, TEST_NET2\n",
    "from model_utils import load_model,save_model\n",
    "from run_network import train, test,train_onebyone\n",
    "import matplotlib.pyplot as plt\n",
    "import numpy as np\n",
    "import torch\n",
    "import cv2 as cv\n",
    "import os\n",
    "from torch import nn, optim\n",
    "from torchvision import transforms, utils\n",
    "from torch.autograd import Variable\n",
    "from torch.utils.data import Dataset, DataLoader\n",
    "from skimage.measure import compare_ssim as ssim\n",
    "import csv\n",
    "import time\n",
    "%matplotlib inline"
   ]
  },
  {
   "cell_type": "code",
   "execution_count": null,
   "metadata": {},
   "outputs": [],
   "source": [
    "path = os.path.join(loaddata_path,'dataset_training_2')\n",
    "input_channel = 2\n",
    "batch_size = 10\n",
    "training_dataset = Hologram_Dataset(path, dataset_type = 'single',\n",
    "                                  input_name='input_data',output_name='output_data', \n",
    "                                  transform=ToTensor())\n",
    "training_dataloader = DataLoader(training_dataset, batch_size=batch_size,shuffle=True, num_workers=6)\n",
    "training_datasize = len(training_dataset)\n",
    "print(training_datasize)"
   ]
  },
  {
   "cell_type": "code",
   "execution_count": null,
   "metadata": {},
   "outputs": [],
   "source": [
    "# training_dataset[42000]['input'].shape\n",
    "plt.imshow(training_dataset[5056]['input'][1].numpy())"
   ]
  },
  {
   "cell_type": "code",
   "execution_count": null,
   "metadata": {},
   "outputs": [],
   "source": [
    "device = torch.device(\"cuda:0\")"
   ]
  },
  {
   "cell_type": "code",
   "execution_count": null,
   "metadata": {},
   "outputs": [],
   "source": [
    "model = TEST_NET2(input_channel)\n",
    "model.to(device)\n",
    "\n",
    "\n",
    "\n",
    "criterion = nn.MSELoss()\n",
    "lr_init = 1e-5\n",
    "lr = lr_init\n",
    "lr_stop = 1e-14\n",
    "lr_decay = 0.1\n",
    "optimizer = optim.Adam(model.parameters(), lr=lr)\n",
    "num_epochs = 10000\n",
    "start_epoch = 0"
   ]
  },
  {
   "cell_type": "code",
   "execution_count": null,
   "metadata": {},
   "outputs": [],
   "source": [
    "# NET_NAME = 'TEST_NET'\n",
    "# dirname = 'inputs_'+str(input_channel)+'dataset_'+str(training_datasize)+'_'+NET_NAME\n",
    "# filename = 'inputs_'+str(input_channel)+'dataset_'+str(training_datasize)+'epoch_'+str(start_epoch)+'_'+NET_NAME+'.pth'\n",
    "\n",
    "# load_model(model, path = os.path.join(savemodel_path,dirname), model_name=filename, mode = \"single\")"
   ]
  },
  {
   "cell_type": "code",
   "execution_count": null,
   "metadata": {
    "scrolled": true
   },
   "outputs": [],
   "source": [
    "NET_NAME = 'TEST_NET2'\n",
    "dirname = 'inputs_'+str(input_channel)+'dataset_'+str(training_datasize)+'_'+NET_NAME\n",
    "if not os.path.exists(os.path.join(savemodel_path,dirname)):\n",
    "    os.makedirs(os.path.join(savemodel_path,dirname))\n",
    "    \n",
    "loss_store = []\n",
    "loss_comparison_len = 100\n",
    "start_ratio = 3\n",
    "start_time = time.time()\n",
    "for epoch in range(start_epoch,num_epochs):\n",
    "    tmp_loss = train_onebyone(training_dataloader,model,criterion, optimizer,device)\n",
    "    tmp_loss = tmp_loss.data[0]\n",
    "    if len(loss_store) > start_ratio*loss_comparison_len:\n",
    "        if np.mean(loss_store[-1*loss_comparison_len:]) < tmp_loss:\n",
    "            loss_store = []\n",
    "            lr = lr*lr_decay\n",
    "            if lr < lr_stop:\n",
    "                print('converge!!!!!!')\n",
    "                break\n",
    "            optimizer = optim.Adam(model.parameters(), lr=lr)\n",
    "#         else:\n",
    "    loss_store.append(tmp_loss)\n",
    "    if epoch < 10: \n",
    "        print('Epoch[{}/{}], loss: {:.6f}, time elapsed: {:.2f}'\n",
    "                  .format(epoch+1, num_epochs, tmp_loss, time.time()-start_time))\n",
    "    elif (epoch+1) % 10 == 0:\n",
    "        print('Epoch[{}/{}], loss: {:.6f}, time elapsed: {:.2f}'\n",
    "                  .format(epoch+1, num_epochs, tmp_loss, time.time()-start_time))\n",
    "        filename = 'inputs_'+str(input_channel)+'dataset_'+str(training_datasize)+'epoch_'+str(epoch)+'_'+NET_NAME+'.pth'\n",
    "        save_model(model, optimizer, path = os.path.join(savemodel_path,dirname), filename=filename)\n",
    "#     if (epoch+1) % 500 == 0:\n",
    "#         filename = 'inputs_'+str(input_channel)+'dataset_'+str(training_datasize)+'epoch_'+str(epoch)+'_'+NET_NAME+'.pth'\n",
    "#         save_model(model, optimizer, path = os.path.join(savemodel_path,dirname), filename=filename) \n",
    "\n",
    "# filename = 'inputs_'+str(input_channel)+'dataset_'+str(training_datasize)+'epoch_'+str(epoch)+'_'+NET_NAME+'.pth'\n",
    "# save_model(model, optimizer, path = os.path.join(savemodel_path,dirname), filename=filename) "
   ]
  },
  {
   "cell_type": "code",
   "execution_count": null,
   "metadata": {},
   "outputs": [],
   "source": [
    "filename = 'inputs_'+str(input_channel)+'dataset_'+str(training_datasize)+'epoch_'+str(epoch)+'_'+NET_NAME+'.pth'\n",
    "save_model(model, optimizer, path = os.path.join(savemodel_path,dirname), filename=filename) "
   ]
  },
  {
   "cell_type": "code",
   "execution_count": null,
   "metadata": {},
   "outputs": [],
   "source": [
    "test_path = os.path.join(loaddata_path,'dataset_testing_2')\n",
    "testing_dataset = Hologram_Dataset(test_path, dataset_type = 'single',input_name='input_data',output_name='output_data',transform=ToTensor())\n",
    "testing_datasize = len(testing_dataset)\n",
    "testing_dataloader = DataLoader(testing_dataset, batch_size=testing_datasize,shuffle=False, num_workers=1)"
   ]
  },
  {
   "cell_type": "code",
   "execution_count": null,
   "metadata": {},
   "outputs": [],
   "source": [
    "predict_test,gt_test = test(testing_dataloader,model,device)"
   ]
  },
  {
   "cell_type": "code",
   "execution_count": null,
   "metadata": {},
   "outputs": [],
   "source": [
    "plt.imshow(predict_test[0,0])"
   ]
  },
  {
   "cell_type": "code",
   "execution_count": null,
   "metadata": {},
   "outputs": [],
   "source": [
    "plt.imshow(gt_test[0,0])"
   ]
  },
  {
   "cell_type": "code",
   "execution_count": null,
   "metadata": {},
   "outputs": [],
   "source": [
    "print(testing_dataset[1]['input'].shape)\n",
    "plt.imshow(testing_dataset[0]['input'][1].numpy())"
   ]
  },
  {
   "cell_type": "code",
   "execution_count": null,
   "metadata": {},
   "outputs": [],
   "source": [
    "lr"
   ]
  },
  {
   "cell_type": "code",
   "execution_count": null,
   "metadata": {},
   "outputs": [],
   "source": []
  }
 ],
 "metadata": {
  "kernelspec": {
   "display_name": "Python 3",
   "language": "python",
   "name": "python3"
  },
  "language_info": {
   "codemirror_mode": {
    "name": "ipython",
    "version": 3
   },
   "file_extension": ".py",
   "mimetype": "text/x-python",
   "name": "python",
   "nbconvert_exporter": "python",
   "pygments_lexer": "ipython3",
   "version": "3.5.0"
  }
 },
 "nbformat": 4,
 "nbformat_minor": 2
}
